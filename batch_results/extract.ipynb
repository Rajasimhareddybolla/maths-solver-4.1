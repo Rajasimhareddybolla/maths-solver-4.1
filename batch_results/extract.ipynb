{
 "cells": [
  {
   "cell_type": "code",
   "execution_count": 1,
   "id": "c5d94640",
   "metadata": {},
   "outputs": [],
   "source": [
    "import json\n",
    "data = json.loads(open(\"batch_results_failed_df.json\").read())\n"
   ]
  },
  {
   "cell_type": "code",
   "execution_count": 2,
   "id": "39b8445b",
   "metadata": {},
   "outputs": [],
   "source": [
    "req  = []\n",
    "token_usage = {\n",
    "          \"prompt_tokens\": 0,\n",
    "          \"completion_tokens\": 0,\n",
    "          \"total_tokens\": 0\n",
    "        }\n",
    "time = 0 \n",
    "for r in data[\"results\"]:\n",
    "    req.append({\n",
    "        \"problem\": r[\"problem\"],\n",
    "        \"solution\": r[\"solution\"][\"formatted_output\"],\n",
    "        \"ground_truth\": r[\"ground_truth\"]\n",
    "    })\n",
    "    token_usage[\"prompt_tokens\"] += r[\"solution\"][\"token_usage\"][\"prompt_tokens\"]\n",
    "    token_usage[\"completion_tokens\"] += r[\"solution\"][\"token_usage\"][\"completion_tokens\"]\n",
    "    token_usage[\"total_tokens\"] += r[\"solution\"][\"token_usage\"][\"total_tokens\"]\n",
    "    time += r[\"solution\"][\"processing_time\"]"
   ]
  },
  {
   "cell_type": "code",
   "execution_count": 3,
   "id": "c785d307",
   "metadata": {},
   "outputs": [
    {
     "data": {
      "text/plain": [
       "{'prompt_tokens': 54702, 'completion_tokens': 26822, 'total_tokens': 81524}"
      ]
     },
     "execution_count": 3,
     "metadata": {},
     "output_type": "execute_result"
    }
   ],
   "source": [
    "token_usage\n"
   ]
  },
  {
   "cell_type": "code",
   "execution_count": 4,
   "id": "6081b539",
   "metadata": {},
   "outputs": [
    {
     "data": {
      "text/plain": [
       "472.6711690425873"
      ]
     },
     "execution_count": 4,
     "metadata": {},
     "output_type": "execute_result"
    }
   ],
   "source": [
    "time"
   ]
  },
  {
   "cell_type": "code",
   "execution_count": 5,
   "id": "aa9bf333",
   "metadata": {},
   "outputs": [],
   "source": [
    "with open(\"results.json\" , 'w') as file:\n",
    "    json.dump(req, file, indent=4)"
   ]
  },
  {
   "cell_type": "code",
   "execution_count": null,
   "id": "b5fbe124",
   "metadata": {},
   "outputs": [],
   "source": []
  }
 ],
 "metadata": {
  "kernelspec": {
   "display_name": "Python 3",
   "language": "python",
   "name": "python3"
  },
  "language_info": {
   "codemirror_mode": {
    "name": "ipython",
    "version": 3
   },
   "file_extension": ".py",
   "mimetype": "text/x-python",
   "name": "python",
   "nbconvert_exporter": "python",
   "pygments_lexer": "ipython3",
   "version": "3.12.9"
  }
 },
 "nbformat": 4,
 "nbformat_minor": 5
}
